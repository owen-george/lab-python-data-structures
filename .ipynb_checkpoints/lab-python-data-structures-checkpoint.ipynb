{
 "cells": [
  {
   "cell_type": "markdown",
   "metadata": {
    "tags": []
   },
   "source": [
    "# Lab | Data Structures "
   ]
  },
  {
   "cell_type": "markdown",
   "metadata": {},
   "source": [
    "## Exercise: Managing Customer Orders\n",
    "\n",
    "As part of a business venture, you are starting an online store that sells various products. To ensure smooth operations, you need to develop a program that manages customer orders and inventory.\n",
    "\n",
    "Follow the steps below to complete the exercise:\n",
    "\n",
    "1. Define a list called `products` that contains the following items: \"t-shirt\", \"mug\", \"hat\", \"book\", \"keychain\".\n",
    "\n",
    "2. Create an empty dictionary called `inventory`.\n",
    "\n",
    "3. Ask the user to input the quantity of each product available in the inventory. Use the product names from the `products` list as keys in the `inventory` dictionary and assign the respective quantities as values.\n",
    "\n",
    "4. Create an empty set called `customer_orders`.\n",
    "\n",
    "5. Ask the user to input the name of three products that a customer wants to order (from those in the products list, meaning three products out of \"t-shirt\", \"mug\", \"hat\", \"book\" or \"keychain\". Add each product name to the `customer_orders` set.\n",
    "\n",
    "6. Print the products in the `customer_orders` set.\n",
    "\n",
    "7. Calculate the following order statistics:\n",
    "   - Total Products Ordered: The total number of products in the `customer_orders` set.\n",
    "   - Percentage of Products Ordered: The percentage of products ordered compared to the total available products.\n",
    "   \n",
    "   Store these statistics in a tuple called `order_status`.\n",
    "\n",
    "8. Print the order statistics using the following format:\n",
    "   ```\n",
    "   Order Statistics:\n",
    "   Total Products Ordered: <total_products_ordered>\n",
    "   Percentage of Products Ordered: <percentage_ordered>% \n",
    "   ```\n",
    "\n",
    "9. Update the inventory by subtracting 1 from the quantity of each product. Modify the `inventory` dictionary accordingly.\n",
    "\n",
    "10. Print the updated inventory, displaying the quantity of each product on separate lines.\n",
    "\n",
    "Solve the exercise by implementing the steps using the Python concepts of lists, dictionaries, sets, and basic input/output operations. "
   ]
  },
  {
   "cell_type": "code",
   "execution_count": 98,
   "metadata": {},
   "outputs": [],
   "source": [
    "#1. Define a list called products that contains the following items: \"t-shirt\", \"mug\", \"hat\", \"book\", \"keychain\".\n",
    "\n",
    "products = [\"t-shirt\", \"mug\", \"hat\", \"book\", \"keychain\"]"
   ]
  },
  {
   "cell_type": "code",
   "execution_count": 100,
   "metadata": {},
   "outputs": [],
   "source": [
    "#2. Create an empty dictionary called inventory.\n",
    "\n",
    "inventory = {}"
   ]
  },
  {
   "cell_type": "code",
   "execution_count": 140,
   "metadata": {},
   "outputs": [
    {
     "name": "stdin",
     "output_type": "stream",
     "text": [
      "Enter value for t-shirt: 10\n",
      "Enter value for mug: 20\n",
      "Enter value for hat: 30\n",
      "Enter value for book: 40\n",
      "Enter value for keychain: 50\n"
     ]
    }
   ],
   "source": [
    "#3. Ask the user to input the quantity of each product available in the inventory. \n",
    "#Use the product names from the products list as keys in the inventory dictionary and assign the respective quantities as values.\n",
    "\n",
    "for prod in products:\n",
    "    quantity = input(\"Enter value for \" + prod + \":\")\n",
    "    inventory[prod] = int(quantity)"
   ]
  },
  {
   "cell_type": "code",
   "execution_count": 126,
   "metadata": {},
   "outputs": [
    {
     "name": "stdout",
     "output_type": "stream",
     "text": [
      "{'t-shirt': 10, 'mug': 20, 'hat': 30, 'book': 40, 'keychain': 50}\n"
     ]
    }
   ],
   "source": [
    "print(inventory)"
   ]
  },
  {
   "cell_type": "code",
   "execution_count": 104,
   "metadata": {},
   "outputs": [],
   "source": [
    "#4. Create an empty set called customer_orders.\n",
    "customer_orders = set()"
   ]
  },
  {
   "cell_type": "code",
   "execution_count": 106,
   "metadata": {},
   "outputs": [
    {
     "name": "stdout",
     "output_type": "stream",
     "text": [
      "Input 3 products to order:\n"
     ]
    },
    {
     "name": "stdin",
     "output_type": "stream",
     "text": [
      "Product 1 from ['t-shirt', 'mug', 'hat', 'book', 'keychain']: mug\n",
      "Product 2 from ['t-shirt', 'mug', 'hat', 'book', 'keychain']: mug\n"
     ]
    },
    {
     "name": "stdout",
     "output_type": "stream",
     "text": [
      "You have already selected mug. Please add a new item\n"
     ]
    },
    {
     "name": "stdin",
     "output_type": "stream",
     "text": [
      "Product 2 from ['t-shirt', 'mug', 'hat', 'book', 'keychain']: aa\n"
     ]
    },
    {
     "name": "stdout",
     "output_type": "stream",
     "text": [
      "Invalid product. Please retry\n"
     ]
    },
    {
     "name": "stdin",
     "output_type": "stream",
     "text": [
      "Product 2 from ['t-shirt', 'mug', 'hat', 'book', 'keychain']: hat\n",
      "Product 3 from ['t-shirt', 'mug', 'hat', 'book', 'keychain']: book\n"
     ]
    }
   ],
   "source": [
    "#5. Ask the user to input the name of three products that a customer wants to order \n",
    "#(from those in the products list, meaning three products out of \"t-shirt\", \"mug\", \"hat\", \"book\" or \"keychain\". \n",
    "#Add each product name to the customer_orders set.\n",
    "\n",
    "customer_orders = set()\n",
    "\n",
    "print(\"Input 3 products to order:\")\n",
    "while len(customer_orders) < 3:\n",
    "    product = input(\"Product \" + str(len(customer_orders) + 1) + \" from \" + str(products) + \":\").lower()\n",
    "    if product in customer_orders:\n",
    "        print(\"You have already selected \" + product + \". Please add a new item\")\n",
    "    if product in products:\n",
    "        customer_orders.add(product)\n",
    "    else: print(\"Invalid product. Please retry\")"
   ]
  },
  {
   "cell_type": "code",
   "execution_count": 108,
   "metadata": {},
   "outputs": [
    {
     "name": "stdout",
     "output_type": "stream",
     "text": [
      "Following 3 products set to order: {'book', 'mug', 'hat'}\n"
     ]
    }
   ],
   "source": [
    "#6. Print the products in the customer_orders set.\n",
    "\n",
    "print(\"Following 3 products set to order: \" + str(customer_orders))"
   ]
  },
  {
   "cell_type": "code",
   "execution_count": 110,
   "metadata": {},
   "outputs": [],
   "source": [
    "#7. Calculate the following order statistics:\n",
    "# - Total Products Ordered: The total number of products in the customer_orders set.\n",
    "# - Percentage of Products Ordered: The percentage of products ordered compared to the total available products.\n",
    "# - Store these statistics in a tuple called order_status.\n",
    "\n",
    "num_ordered = len(customer_orders)\n",
    "pct_ordered = 100 * len(customer_orders) / len(products) \n",
    "\n",
    "order_status = (num_ordered, pct_ordered)"
   ]
  },
  {
   "cell_type": "code",
   "execution_count": 112,
   "metadata": {},
   "outputs": [
    {
     "name": "stdout",
     "output_type": "stream",
     "text": [
      "Order Statistics:\n",
      "Total products ordered: 3\n",
      "Percentage of products ordered: 60.0%\n"
     ]
    }
   ],
   "source": [
    "# 8. Print the order statistics using the following format:\n",
    "# - Order Statistics:\n",
    "# - Total Products Ordered: <total_products_ordered>\n",
    "# - Percentage of Products Ordered: <percentage_ordered>% \n",
    "\n",
    "print(\"Order Statistics:\")\n",
    "print(\"Total products ordered: \" + str(num_ordered))\n",
    "print(\"Percentage of products ordered: \" + str(pct_ordered) + \"%\")"
   ]
  },
  {
   "cell_type": "code",
   "execution_count": 144,
   "metadata": {},
   "outputs": [],
   "source": [
    "# 9. Update the inventory by subtracting 1 from the quantity of each product. Modify the inventory dictionary accordingly.\n",
    "\n",
    "for order in customer_orders:\n",
    "    if order in inventory:\n",
    "        inventory[order] -= 1"
   ]
  },
  {
   "cell_type": "code",
   "execution_count": 146,
   "metadata": {},
   "outputs": [
    {
     "name": "stdout",
     "output_type": "stream",
     "text": [
      "t-shirt: 10\n",
      "mug: 19\n",
      "hat: 29\n",
      "book: 39\n",
      "keychain: 50\n"
     ]
    }
   ],
   "source": [
    "#10. Print the updated inventory, displaying the quantity of each product on separate lines.\n",
    "\n",
    "for key, value in inventory.items():\n",
    "    print(str(key) + \": \" + str(value))"
   ]
  }
 ],
 "metadata": {
  "kernelspec": {
   "display_name": "Python 3 (ipykernel)",
   "language": "python",
   "name": "python3"
  },
  "language_info": {
   "codemirror_mode": {
    "name": "ipython",
    "version": 3
   },
   "file_extension": ".py",
   "mimetype": "text/x-python",
   "name": "python",
   "nbconvert_exporter": "python",
   "pygments_lexer": "ipython3",
   "version": "3.12.4"
  }
 },
 "nbformat": 4,
 "nbformat_minor": 4
}
